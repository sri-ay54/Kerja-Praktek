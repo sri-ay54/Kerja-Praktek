{
  "nbformat": 4,
  "nbformat_minor": 0,
  "metadata": {
    "colab": {
      "name": "Model YOLO.ipynb",
      "provenance": [],
      "collapsed_sections": []
    },
    "kernelspec": {
      "name": "python3",
      "display_name": "Python 3"
    },
    "language_info": {
      "name": "python"
    },
    "accelerator": "GPU"
  },
  "cells": [
    {
      "cell_type": "markdown",
      "source": [
        "# Training YOLOv5 custom dataset with ease\n",
        "\n",
        "Check the full explanation on medium:\n",
        "\n",
        "https://medium.com/mlearning-ai/training-yolov5-custom-dataset-with-ease-e4f6272148ad"
      ],
      "metadata": {
        "id": "Xoe1W0HiQ1t4"
      }
    },
    {
      "cell_type": "markdown",
      "source": [
        "### Parameter\n",
        "https://github.com/AlexeyAB/darknet/wiki/CFG-Parameters-in-the-different-layers"
      ],
      "metadata": {
        "id": "jhVsJdfHGKrE"
      }
    },
    {
      "cell_type": "code",
      "execution_count": 1,
      "metadata": {
        "colab": {
          "base_uri": "https://localhost:8080/"
        },
        "id": "oAopQ0tumV-7",
        "outputId": "43cf6e5a-f30e-4e96-fbb3-b27c0c84fdd0"
      },
      "outputs": [
        {
          "output_type": "stream",
          "name": "stderr",
          "text": [
            "YOLOv5 🚀 v6.1-251-gc23a441 Python-3.7.13 torch-1.11.0+cu113 CUDA:0 (Tesla T4, 15110MiB)\n"
          ]
        },
        {
          "output_type": "stream",
          "name": "stdout",
          "text": [
            "Setup complete ✅ (2 CPUs, 12.7 GB RAM, 38.7/78.2 GB disk)\n"
          ]
        }
      ],
      "source": [
        "!git clone https://github.com/ultralytics/yolov5  # clone\n",
        "%cd yolov5\n",
        "%pip install -qr requirements.txt  # install\n",
        "\n",
        "import torch\n",
        "from yolov5 import utils\n",
        "display = utils.notebook_init() "
      ]
    },
    {
      "cell_type": "code",
      "source": [
        "!nvidia-smi"
      ],
      "metadata": {
        "colab": {
          "base_uri": "https://localhost:8080/"
        },
        "id": "gnpCPJcE1fGr",
        "outputId": "a3d24348-082e-4b52-fdf8-058153c4113f"
      },
      "execution_count": 2,
      "outputs": [
        {
          "output_type": "stream",
          "name": "stdout",
          "text": [
            "Mon Jun 13 02:40:18 2022       \n",
            "+-----------------------------------------------------------------------------+\n",
            "| NVIDIA-SMI 460.32.03    Driver Version: 460.32.03    CUDA Version: 11.2     |\n",
            "|-------------------------------+----------------------+----------------------+\n",
            "| GPU  Name        Persistence-M| Bus-Id        Disp.A | Volatile Uncorr. ECC |\n",
            "| Fan  Temp  Perf  Pwr:Usage/Cap|         Memory-Usage | GPU-Util  Compute M. |\n",
            "|                               |                      |               MIG M. |\n",
            "|===============================+======================+======================|\n",
            "|   0  Tesla T4            Off  | 00000000:00:04.0 Off |                    0 |\n",
            "| N/A   50C    P8    10W /  70W |      3MiB / 15109MiB |      0%      Default |\n",
            "|                               |                      |                  N/A |\n",
            "+-------------------------------+----------------------+----------------------+\n",
            "                                                                               \n",
            "+-----------------------------------------------------------------------------+\n",
            "| Processes:                                                                  |\n",
            "|  GPU   GI   CI        PID   Type   Process name                  GPU Memory |\n",
            "|        ID   ID                                                   Usage      |\n",
            "|=============================================================================|\n",
            "|  No running processes found                                                 |\n",
            "+-----------------------------------------------------------------------------+\n"
          ]
        }
      ]
    },
    {
      "cell_type": "code",
      "source": [
        "!ls"
      ],
      "metadata": {
        "colab": {
          "base_uri": "https://localhost:8080/"
        },
        "id": "FhOkbuyt1rgu",
        "outputId": "fd70fa4a-17bb-4fcf-811f-a0d79bd8aec7"
      },
      "execution_count": 3,
      "outputs": [
        {
          "output_type": "stream",
          "name": "stdout",
          "text": [
            "CONTRIBUTING.md  export.py   models\t       setup.cfg       utils\n",
            "data\t\t hubconf.py  README.md\t       train.py        val.py\n",
            "detect.py\t LICENSE     requirements.txt  tutorial.ipynb\n"
          ]
        }
      ]
    },
    {
      "cell_type": "code",
      "source": [
        "%cd .."
      ],
      "metadata": {
        "colab": {
          "base_uri": "https://localhost:8080/"
        },
        "id": "1X-vx8NPIkzE",
        "outputId": "7d9fc7a3-db8e-47b9-f6e2-99d749120dbd"
      },
      "execution_count": 4,
      "outputs": [
        {
          "output_type": "stream",
          "name": "stdout",
          "text": [
            "/content\n"
          ]
        }
      ]
    },
    {
      "cell_type": "markdown",
      "source": [
        "### Gunakan kode ini jika data dari gdrive"
      ],
      "metadata": {
        "id": "J_uc2p6-s-xr"
      }
    },
    {
      "cell_type": "code",
      "source": [
        "from google.colab import drive\n",
        "drive.mount('/content/drive')"
      ],
      "metadata": {
        "colab": {
          "base_uri": "https://localhost:8080/"
        },
        "id": "wtxrqPEcsn_7",
        "outputId": "e6ceb006-0b28-41b3-c578-eca81370ca64"
      },
      "execution_count": 5,
      "outputs": [
        {
          "output_type": "stream",
          "name": "stdout",
          "text": [
            "Mounted at /content/drive\n"
          ]
        }
      ]
    },
    {
      "cell_type": "markdown",
      "source": [
        ""
      ],
      "metadata": {
        "id": "kTMZZQu6o4Gm"
      }
    },
    {
      "cell_type": "markdown",
      "source": [
        "### Gunakan kode ini jika download data berupa zip file"
      ],
      "metadata": {
        "id": "UfdYt3Wys5Tm"
      }
    },
    {
      "cell_type": "code",
      "source": [
        "import shutil\n",
        "import os, sys\n",
        "\n",
        "zip_file = \"drive/MyDrive/Dataset Labelling.zip\"\n",
        "\n",
        "if os.path.isfile(zip_file):\n",
        "  shutil.unpack_archive(zip_file, \"data\")\n",
        "else:\n",
        "  print(zip_file + \" not found\")"
      ],
      "metadata": {
        "id": "-9fxWlH1nTUz"
      },
      "execution_count": 6,
      "outputs": []
    },
    {
      "cell_type": "code",
      "source": [
        "#!/usr/bin/env python\n",
        "import os, sys\n",
        "folder = 'data/Dataset Labelling/'\n",
        "for filename in os.listdir(folder):\n",
        "    infilename = os.path.join(folder,filename)\n",
        "    if not os.path.isfile(infilename): continue\n",
        "    oldbase = os.path.splitext(filename)\n",
        "    newname = infilename.replace('.xml', '')\n",
        "    output = os.rename(infilename, newname)\n"
      ],
      "metadata": {
        "id": "VlLVjpfV_0d_"
      },
      "execution_count": 7,
      "outputs": []
    },
    {
      "cell_type": "markdown",
      "source": [
        "### Split dataset"
      ],
      "metadata": {
        "id": "BYxIQToPewjg"
      }
    },
    {
      "cell_type": "code",
      "source": [
        "import os, shutil, random\n",
        "\n",
        "# preparing the folder structure\n",
        "\n",
        "full_data_path = 'data/Dataset Labelling/'\n",
        "extension_allowed = '.jpg'\n",
        "split_percentage = 90\n",
        "\n",
        "images_path = 'data/images/'\n",
        "if os.path.exists(images_path):\n",
        "    shutil.rmtree(images_path)\n",
        "os.mkdir(images_path)\n",
        "    \n",
        "labels_path = 'data/labels/'\n",
        "if os.path.exists(labels_path):\n",
        "    shutil.rmtree(labels_path)\n",
        "os.mkdir(labels_path)\n",
        "    \n",
        "training_images_path = images_path + 'training/'\n",
        "validation_images_path = images_path + 'validation/'\n",
        "training_labels_path = labels_path + 'training/'\n",
        "validation_labels_path = labels_path +'validation/'\n",
        "    \n",
        "os.mkdir(training_images_path)\n",
        "os.mkdir(validation_images_path)\n",
        "os.mkdir(training_labels_path)\n",
        "os.mkdir(validation_labels_path)\n",
        "\n",
        "files = []\n",
        "\n",
        "ext_len = len(extension_allowed)\n",
        "\n",
        "for r, d, f in os.walk(full_data_path):\n",
        "    for file in f:\n",
        "        if file.endswith(extension_allowed):\n",
        "            strip = file[0:len(file) - ext_len]      \n",
        "            files.append(strip)\n",
        "\n",
        "random.shuffle(files)\n",
        "\n",
        "size = len(files)                   \n",
        "\n",
        "split = int(split_percentage * size / 100)\n",
        "\n",
        "print(\"copying training data\")\n",
        "for i in range(split):\n",
        "    strip = files[i]\n",
        "                         \n",
        "    image_file = strip + extension_allowed\n",
        "    src_image = full_data_path + image_file\n",
        "    shutil.copy(src_image, training_images_path) \n",
        "                         \n",
        "    annotation_file = strip + '.txt'\n",
        "    src_label = full_data_path + annotation_file\n",
        "    shutil.copy(src_label, training_labels_path) \n",
        "\n",
        "print(\"copying validation data\")\n",
        "for i in range(split, size):\n",
        "    strip = files[i]\n",
        "                         \n",
        "    image_file = strip + extension_allowed\n",
        "    src_image = full_data_path + image_file\n",
        "    shutil.copy(src_image, validation_images_path) \n",
        "                         \n",
        "    annotation_file = strip + '.txt'\n",
        "    src_label = full_data_path + annotation_file\n",
        "    shutil.copy(src_label, validation_labels_path) \n",
        "\n",
        "print(\"finished\")"
      ],
      "metadata": {
        "colab": {
          "base_uri": "https://localhost:8080/"
        },
        "id": "3Li_d6M4nQ_M",
        "outputId": "cb1dde04-50ac-4905-e308-ffadea6cde32"
      },
      "execution_count": 8,
      "outputs": [
        {
          "output_type": "stream",
          "name": "stdout",
          "text": [
            "copying training data\n",
            "copying validation data\n",
            "finished\n"
          ]
        }
      ]
    },
    {
      "cell_type": "code",
      "source": [
        "f = open(\"dataset.yaml\", \"a\")\n",
        "\n",
        "f.write(\"train: ../data/images/training/\\n\")\n",
        "f.write(\"val: ../data/images/validation/\\n\")\n",
        "f.write(\"nc: 9\\n\")\n",
        "f.write(\"names: ['granite', 'pyrite', 'sandstone', 'basalt', 'labradorite', 'quartzite', 'coal', 'limestone', 'marble']\\n\")\n",
        "f.close()"
      ],
      "metadata": {
        "id": "BY9imuWyJo3S"
      },
      "execution_count": 9,
      "outputs": []
    },
    {
      "cell_type": "code",
      "source": [
        "# kalo di hp yolov5n.pt atau yolov5n6.pt"
      ],
      "metadata": {
        "id": "4l5XiGVmwzZO"
      },
      "execution_count": null,
      "outputs": []
    },
    {
      "cell_type": "code",
      "source": [
        "%cd yolov5\n",
        "!python train.py --img 640 --batch 32 --epochs 100 --data ../dataset.yaml --weights yolov5s6.pt"
      ],
      "metadata": {
        "colab": {
          "base_uri": "https://localhost:8080/"
        },
        "id": "412Aa8kIs0mi",
        "outputId": "eb9dff4d-468b-4408-f1bd-19fccd8119ce"
      },
      "execution_count": 10,
      "outputs": [
        {
          "output_type": "stream",
          "name": "stdout",
          "text": [
            "/content/yolov5\n",
            "\u001b[34m\u001b[1mtrain: \u001b[0mweights=yolov5s6.pt, cfg=, data=../dataset.yaml, hyp=data/hyps/hyp.scratch-low.yaml, epochs=100, batch_size=32, imgsz=640, rect=False, resume=False, nosave=False, noval=False, noautoanchor=False, noplots=False, evolve=None, bucket=, cache=None, image_weights=False, device=, multi_scale=False, single_cls=False, optimizer=SGD, sync_bn=False, workers=8, project=runs/train, name=exp, exist_ok=False, quad=False, cos_lr=False, label_smoothing=0.0, patience=100, freeze=[0], save_period=-1, local_rank=-1, entity=None, upload_dataset=False, bbox_interval=-1, artifact_alias=latest\n",
            "\u001b[34m\u001b[1mgithub: \u001b[0mup to date with https://github.com/ultralytics/yolov5 ✅\n",
            "YOLOv5 🚀 v6.1-251-gc23a441 Python-3.7.13 torch-1.11.0+cu113 CUDA:0 (Tesla T4, 15110MiB)\n",
            "\n",
            "\u001b[34m\u001b[1mhyperparameters: \u001b[0mlr0=0.01, lrf=0.01, momentum=0.937, weight_decay=0.0005, warmup_epochs=3.0, warmup_momentum=0.8, warmup_bias_lr=0.1, box=0.05, cls=0.5, cls_pw=1.0, obj=1.0, obj_pw=1.0, iou_t=0.2, anchor_t=4.0, fl_gamma=0.0, hsv_h=0.015, hsv_s=0.7, hsv_v=0.4, degrees=0.0, translate=0.1, scale=0.5, shear=0.0, perspective=0.0, flipud=0.0, fliplr=0.5, mosaic=1.0, mixup=0.0, copy_paste=0.0\n",
            "\u001b[34m\u001b[1mWeights & Biases: \u001b[0mrun 'pip install wandb' to automatically track and visualize YOLOv5 🚀 runs (RECOMMENDED)\n",
            "\u001b[34m\u001b[1mTensorBoard: \u001b[0mStart with 'tensorboard --logdir runs/train', view at http://localhost:6006/\n",
            "Downloading https://ultralytics.com/assets/Arial.ttf to /root/.config/Ultralytics/Arial.ttf...\n",
            "100% 755k/755k [00:00<00:00, 113MB/s]\n",
            "Downloading https://github.com/ultralytics/yolov5/releases/download/v6.1/yolov5s6.pt to yolov5s6.pt...\n",
            "100% 24.8M/24.8M [00:00<00:00, 165MB/s]\n",
            "\n",
            "Overriding model.yaml nc=80 with nc=9\n",
            "\n",
            "                 from  n    params  module                                  arguments                     \n",
            "  0                -1  1      3520  models.common.Conv                      [3, 32, 6, 2, 2]              \n",
            "  1                -1  1     18560  models.common.Conv                      [32, 64, 3, 2]                \n",
            "  2                -1  1     18816  models.common.C3                        [64, 64, 1]                   \n",
            "  3                -1  1     73984  models.common.Conv                      [64, 128, 3, 2]               \n",
            "  4                -1  2    115712  models.common.C3                        [128, 128, 2]                 \n",
            "  5                -1  1    295424  models.common.Conv                      [128, 256, 3, 2]              \n",
            "  6                -1  3    625152  models.common.C3                        [256, 256, 3]                 \n",
            "  7                -1  1    885504  models.common.Conv                      [256, 384, 3, 2]              \n",
            "  8                -1  1    665856  models.common.C3                        [384, 384, 1]                 \n",
            "  9                -1  1   1770496  models.common.Conv                      [384, 512, 3, 2]              \n",
            " 10                -1  1   1182720  models.common.C3                        [512, 512, 1]                 \n",
            " 11                -1  1    656896  models.common.SPPF                      [512, 512, 5]                 \n",
            " 12                -1  1    197376  models.common.Conv                      [512, 384, 1, 1]              \n",
            " 13                -1  1         0  torch.nn.modules.upsampling.Upsample    [None, 2, 'nearest']          \n",
            " 14           [-1, 8]  1         0  models.common.Concat                    [1]                           \n",
            " 15                -1  1    813312  models.common.C3                        [768, 384, 1, False]          \n",
            " 16                -1  1     98816  models.common.Conv                      [384, 256, 1, 1]              \n",
            " 17                -1  1         0  torch.nn.modules.upsampling.Upsample    [None, 2, 'nearest']          \n",
            " 18           [-1, 6]  1         0  models.common.Concat                    [1]                           \n",
            " 19                -1  1    361984  models.common.C3                        [512, 256, 1, False]          \n",
            " 20                -1  1     33024  models.common.Conv                      [256, 128, 1, 1]              \n",
            " 21                -1  1         0  torch.nn.modules.upsampling.Upsample    [None, 2, 'nearest']          \n",
            " 22           [-1, 4]  1         0  models.common.Concat                    [1]                           \n",
            " 23                -1  1     90880  models.common.C3                        [256, 128, 1, False]          \n",
            " 24                -1  1    147712  models.common.Conv                      [128, 128, 3, 2]              \n",
            " 25          [-1, 20]  1         0  models.common.Concat                    [1]                           \n",
            " 26                -1  1    296448  models.common.C3                        [256, 256, 1, False]          \n",
            " 27                -1  1    590336  models.common.Conv                      [256, 256, 3, 2]              \n",
            " 28          [-1, 16]  1         0  models.common.Concat                    [1]                           \n",
            " 29                -1  1    715008  models.common.C3                        [512, 384, 1, False]          \n",
            " 30                -1  1   1327872  models.common.Conv                      [384, 384, 3, 2]              \n",
            " 31          [-1, 12]  1         0  models.common.Concat                    [1]                           \n",
            " 32                -1  1   1313792  models.common.C3                        [768, 512, 1, False]          \n",
            " 33  [23, 26, 29, 32]  1     53928  models.yolo.Detect                      [9, [[19, 27, 44, 40, 38, 94], [96, 68, 86, 152, 180, 137], [140, 301, 303, 264, 238, 542], [436, 615, 739, 380, 925, 792]], [128, 256, 384, 512]]\n",
            "Model summary: 355 layers, 12353128 parameters, 12353128 gradients\n",
            "\n",
            "Transferred 451/459 items from yolov5s6.pt\n",
            "\u001b[34m\u001b[1mAMP: \u001b[0mchecks passed ✅\n",
            "Scaled weight_decay = 0.0005\n",
            "\u001b[34m\u001b[1moptimizer:\u001b[0m SGD with parameter groups 75 weight (no decay), 79 weight, 79 bias\n",
            "\u001b[34m\u001b[1malbumentations: \u001b[0mversion 1.0.3 required by YOLOv5, but version 0.1.12 is currently installed\n",
            "\u001b[34m\u001b[1mtrain: \u001b[0mScanning '/content/yolov5/../data/labels/training' images and labels...1561 found, 0 missing, 0 empty, 0 corrupt: 100% 1561/1561 [00:00<00:00, 2070.74it/s]\n",
            "\u001b[34m\u001b[1mtrain: \u001b[0mNew cache created: /content/yolov5/../data/labels/training.cache\n",
            "\u001b[34m\u001b[1mval: \u001b[0mScanning '/content/yolov5/../data/labels/validation' images and labels...174 found, 0 missing, 0 empty, 0 corrupt: 100% 174/174 [00:00<00:00, 1100.50it/s]\n",
            "\u001b[34m\u001b[1mval: \u001b[0mNew cache created: /content/yolov5/../data/labels/validation.cache\n",
            "Plotting labels to runs/train/exp/labels.jpg... \n",
            "\n",
            "\u001b[34m\u001b[1mAutoAnchor: \u001b[0m6.85 anchors/target, 1.000 Best Possible Recall (BPR). Current anchors are a good fit to dataset ✅\n",
            "Image sizes 640 train, 640 val\n",
            "Using 2 dataloader workers\n",
            "Logging results to \u001b[1mruns/train/exp\u001b[0m\n",
            "Starting training for 100 epochs...\n",
            "\n",
            "     Epoch   gpu_mem       box       obj       cls    labels  img_size\n",
            "      0/99      7.4G   0.07652   0.02925   0.06203        76       640: 100% 49/49 [00:41<00:00,  1.17it/s]\n",
            "               Class     Images     Labels          P          R     mAP@.5 mAP@.5:.95: 100% 3/3 [00:03<00:00,  1.28s/it]\n",
            "                 all        174        188     0.0876      0.395      0.151      0.093\n",
            "\n",
            "     Epoch   gpu_mem       box       obj       cls    labels  img_size\n",
            "      1/99     9.23G   0.04795   0.02034   0.05621        78       640: 100% 49/49 [00:39<00:00,  1.25it/s]\n",
            "               Class     Images     Labels          P          R     mAP@.5 mAP@.5:.95: 100% 3/3 [00:03<00:00,  1.05s/it]\n",
            "                 all        174        188      0.206      0.345      0.231      0.121\n",
            "\n",
            "     Epoch   gpu_mem       box       obj       cls    labels  img_size\n",
            "      2/99     9.23G   0.04389   0.01716   0.04934        63       640: 100% 49/49 [00:38<00:00,  1.27it/s]\n",
            "               Class     Images     Labels          P          R     mAP@.5 mAP@.5:.95: 100% 3/3 [00:03<00:00,  1.04s/it]\n",
            "                 all        174        188      0.134      0.565        0.3      0.202\n",
            "\n",
            "     Epoch   gpu_mem       box       obj       cls    labels  img_size\n",
            "      3/99     9.23G   0.03579   0.01582   0.04372        75       640: 100% 49/49 [00:41<00:00,  1.18it/s]\n",
            "               Class     Images     Labels          P          R     mAP@.5 mAP@.5:.95: 100% 3/3 [00:02<00:00,  1.00it/s]\n",
            "                 all        174        188      0.249      0.484      0.258      0.164\n",
            "\n",
            "     Epoch   gpu_mem       box       obj       cls    labels  img_size\n",
            "      4/99     9.23G   0.03091   0.01521    0.0411        64       640: 100% 49/49 [00:39<00:00,  1.25it/s]\n",
            "               Class     Images     Labels          P          R     mAP@.5 mAP@.5:.95: 100% 3/3 [00:02<00:00,  1.22it/s]\n",
            "                 all        174        188      0.301      0.451      0.341       0.24\n",
            "\n",
            "     Epoch   gpu_mem       box       obj       cls    labels  img_size\n",
            "      5/99     9.23G   0.02759   0.01435   0.03857        69       640: 100% 49/49 [00:38<00:00,  1.28it/s]\n",
            "               Class     Images     Labels          P          R     mAP@.5 mAP@.5:.95: 100% 3/3 [00:02<00:00,  1.02it/s]\n",
            "                 all        174        188      0.452      0.667      0.434      0.325\n",
            "\n",
            "     Epoch   gpu_mem       box       obj       cls    labels  img_size\n",
            "      6/99     9.23G   0.02596    0.0141   0.03713        82       640: 100% 49/49 [00:38<00:00,  1.29it/s]\n",
            "               Class     Images     Labels          P          R     mAP@.5 mAP@.5:.95: 100% 3/3 [00:03<00:00,  1.03s/it]\n",
            "                 all        174        188      0.386      0.661      0.422      0.309\n",
            "\n",
            "     Epoch   gpu_mem       box       obj       cls    labels  img_size\n",
            "      7/99     9.23G   0.02514   0.01404   0.03734        81       640: 100% 49/49 [00:39<00:00,  1.25it/s]\n",
            "               Class     Images     Labels          P          R     mAP@.5 mAP@.5:.95: 100% 3/3 [00:02<00:00,  1.00it/s]\n",
            "                 all        174        188      0.398      0.569      0.435      0.343\n",
            "\n",
            "     Epoch   gpu_mem       box       obj       cls    labels  img_size\n",
            "      8/99     9.23G   0.02361   0.01366   0.03631        76       640: 100% 49/49 [00:38<00:00,  1.26it/s]\n",
            "               Class     Images     Labels          P          R     mAP@.5 mAP@.5:.95: 100% 3/3 [00:04<00:00,  1.40s/it]\n",
            "                 all        174        188      0.359       0.55      0.418      0.322\n",
            "\n",
            "     Epoch   gpu_mem       box       obj       cls    labels  img_size\n",
            "      9/99     9.23G   0.02336    0.0135   0.03631        72       640: 100% 49/49 [00:38<00:00,  1.28it/s]\n",
            "               Class     Images     Labels          P          R     mAP@.5 mAP@.5:.95: 100% 3/3 [00:02<00:00,  1.10it/s]\n",
            "                 all        174        188      0.463        0.6      0.521      0.429\n",
            "\n",
            "     Epoch   gpu_mem       box       obj       cls    labels  img_size\n",
            "     10/99     9.23G   0.02218   0.01351   0.03541        82       640: 100% 49/49 [00:38<00:00,  1.26it/s]\n",
            "               Class     Images     Labels          P          R     mAP@.5 mAP@.5:.95: 100% 3/3 [00:03<00:00,  1.01s/it]\n",
            "                 all        174        188      0.435      0.578      0.489      0.385\n",
            "\n",
            "     Epoch   gpu_mem       box       obj       cls    labels  img_size\n",
            "     11/99     9.23G   0.02229   0.01321   0.03423        71       640: 100% 49/49 [00:38<00:00,  1.27it/s]\n",
            "               Class     Images     Labels          P          R     mAP@.5 mAP@.5:.95: 100% 3/3 [00:03<00:00,  1.02s/it]\n",
            "                 all        174        188      0.369      0.625      0.483      0.397\n",
            "\n",
            "     Epoch   gpu_mem       box       obj       cls    labels  img_size\n",
            "     12/99     9.23G   0.02189   0.01284   0.03285        70       640: 100% 49/49 [00:39<00:00,  1.25it/s]\n",
            "               Class     Images     Labels          P          R     mAP@.5 mAP@.5:.95: 100% 3/3 [00:02<00:00,  1.02it/s]\n",
            "                 all        174        188       0.52      0.557      0.517      0.405\n",
            "\n",
            "     Epoch   gpu_mem       box       obj       cls    labels  img_size\n",
            "     13/99     9.23G   0.02173   0.01328   0.03178        72       640: 100% 49/49 [00:38<00:00,  1.27it/s]\n",
            "               Class     Images     Labels          P          R     mAP@.5 mAP@.5:.95: 100% 3/3 [00:02<00:00,  1.11it/s]\n",
            "                 all        174        188      0.462      0.687      0.531      0.454\n",
            "\n",
            "     Epoch   gpu_mem       box       obj       cls    labels  img_size\n",
            "     14/99     9.23G   0.02026   0.01229   0.03114        70       640: 100% 49/49 [00:40<00:00,  1.21it/s]\n",
            "               Class     Images     Labels          P          R     mAP@.5 mAP@.5:.95: 100% 3/3 [00:02<00:00,  1.17it/s]\n",
            "                 all        174        188      0.541      0.455      0.518      0.421\n",
            "\n",
            "     Epoch   gpu_mem       box       obj       cls    labels  img_size\n",
            "     15/99     9.23G   0.02034    0.0129   0.03088        67       640: 100% 49/49 [00:39<00:00,  1.24it/s]\n",
            "               Class     Images     Labels          P          R     mAP@.5 mAP@.5:.95: 100% 3/3 [00:02<00:00,  1.05it/s]\n",
            "                 all        174        188      0.249      0.589      0.481      0.388\n",
            "\n",
            "     Epoch   gpu_mem       box       obj       cls    labels  img_size\n",
            "     16/99     9.23G   0.02081   0.01268   0.03078        77       640: 100% 49/49 [00:38<00:00,  1.28it/s]\n",
            "               Class     Images     Labels          P          R     mAP@.5 mAP@.5:.95: 100% 3/3 [00:03<00:00,  1.04s/it]\n",
            "                 all        174        188        0.5      0.515      0.555      0.455\n",
            "\n",
            "     Epoch   gpu_mem       box       obj       cls    labels  img_size\n",
            "     17/99     9.23G    0.0199   0.01247    0.0298        69       640: 100% 49/49 [00:38<00:00,  1.28it/s]\n",
            "               Class     Images     Labels          P          R     mAP@.5 mAP@.5:.95: 100% 3/3 [00:03<00:00,  1.00s/it]\n",
            "                 all        174        188      0.538      0.541      0.542      0.461\n",
            "\n",
            "     Epoch   gpu_mem       box       obj       cls    labels  img_size\n",
            "     18/99     9.23G   0.01937   0.01241    0.0294        80       640: 100% 49/49 [00:37<00:00,  1.29it/s]\n",
            "               Class     Images     Labels          P          R     mAP@.5 mAP@.5:.95: 100% 3/3 [00:02<00:00,  1.08it/s]\n",
            "                 all        174        188      0.623      0.535      0.555      0.448\n",
            "\n",
            "     Epoch   gpu_mem       box       obj       cls    labels  img_size\n",
            "     19/99     9.23G   0.01978   0.01221    0.0288        77       640: 100% 49/49 [00:38<00:00,  1.26it/s]\n",
            "               Class     Images     Labels          P          R     mAP@.5 mAP@.5:.95: 100% 3/3 [00:02<00:00,  1.04it/s]\n",
            "                 all        174        188      0.538      0.506      0.531       0.46\n",
            "\n",
            "     Epoch   gpu_mem       box       obj       cls    labels  img_size\n",
            "     20/99     9.23G   0.01942   0.01269   0.02947        65       640: 100% 49/49 [00:39<00:00,  1.24it/s]\n",
            "               Class     Images     Labels          P          R     mAP@.5 mAP@.5:.95: 100% 3/3 [00:03<00:00,  1.01s/it]\n",
            "                 all        174        188      0.553      0.461      0.526      0.437\n",
            "\n",
            "     Epoch   gpu_mem       box       obj       cls    labels  img_size\n",
            "     21/99     9.23G   0.01976   0.01223   0.02755        65       640: 100% 49/49 [00:38<00:00,  1.29it/s]\n",
            "               Class     Images     Labels          P          R     mAP@.5 mAP@.5:.95: 100% 3/3 [00:02<00:00,  1.09it/s]\n",
            "                 all        174        188      0.623      0.555      0.605      0.502\n",
            "\n",
            "     Epoch   gpu_mem       box       obj       cls    labels  img_size\n",
            "     22/99     9.23G   0.01878    0.0119   0.02716        70       640: 100% 49/49 [00:38<00:00,  1.26it/s]\n",
            "               Class     Images     Labels          P          R     mAP@.5 mAP@.5:.95: 100% 3/3 [00:02<00:00,  1.03it/s]\n",
            "                 all        174        188      0.664       0.63      0.645      0.545\n",
            "\n",
            "     Epoch   gpu_mem       box       obj       cls    labels  img_size\n",
            "     23/99     9.23G   0.01829   0.01181   0.02705        77       640: 100% 49/49 [00:37<00:00,  1.30it/s]\n",
            "               Class     Images     Labels          P          R     mAP@.5 mAP@.5:.95: 100% 3/3 [00:03<00:00,  1.02s/it]\n",
            "                 all        174        188      0.616       0.62      0.598       0.51\n",
            "\n",
            "     Epoch   gpu_mem       box       obj       cls    labels  img_size\n",
            "     24/99     9.23G   0.01837   0.01165   0.02533        75       640: 100% 49/49 [00:38<00:00,  1.26it/s]\n",
            "               Class     Images     Labels          P          R     mAP@.5 mAP@.5:.95: 100% 3/3 [00:02<00:00,  1.01it/s]\n",
            "                 all        174        188      0.606      0.645      0.636      0.537\n",
            "\n",
            "     Epoch   gpu_mem       box       obj       cls    labels  img_size\n",
            "     25/99     9.23G   0.01815   0.01172    0.0254        71       640: 100% 49/49 [00:38<00:00,  1.28it/s]\n",
            "               Class     Images     Labels          P          R     mAP@.5 mAP@.5:.95: 100% 3/3 [00:02<00:00,  1.03it/s]\n",
            "                 all        174        188      0.676      0.665      0.682      0.579\n",
            "\n",
            "     Epoch   gpu_mem       box       obj       cls    labels  img_size\n",
            "     26/99     9.23G   0.01792   0.01148   0.02526        74       640: 100% 49/49 [00:39<00:00,  1.25it/s]\n",
            "               Class     Images     Labels          P          R     mAP@.5 mAP@.5:.95: 100% 3/3 [00:02<00:00,  1.08it/s]\n",
            "                 all        174        188      0.721      0.622      0.656      0.553\n",
            "\n",
            "     Epoch   gpu_mem       box       obj       cls    labels  img_size\n",
            "     27/99     9.23G   0.01785    0.0115   0.02452        81       640: 100% 49/49 [00:38<00:00,  1.28it/s]\n",
            "               Class     Images     Labels          P          R     mAP@.5 mAP@.5:.95: 100% 3/3 [00:02<00:00,  1.03it/s]\n",
            "                 all        174        188      0.671       0.61      0.654      0.563\n",
            "\n",
            "     Epoch   gpu_mem       box       obj       cls    labels  img_size\n",
            "     28/99     9.23G   0.01769   0.01176   0.02404        85       640: 100% 49/49 [00:38<00:00,  1.26it/s]\n",
            "               Class     Images     Labels          P          R     mAP@.5 mAP@.5:.95: 100% 3/3 [00:02<00:00,  1.03it/s]\n",
            "                 all        174        188      0.707      0.542      0.593      0.519\n",
            "\n",
            "     Epoch   gpu_mem       box       obj       cls    labels  img_size\n",
            "     29/99     9.23G   0.01835   0.01165   0.02364        83       640: 100% 49/49 [00:37<00:00,  1.30it/s]\n",
            "               Class     Images     Labels          P          R     mAP@.5 mAP@.5:.95: 100% 3/3 [00:02<00:00,  1.17it/s]\n",
            "                 all        174        188      0.652      0.529      0.582      0.507\n",
            "\n",
            "     Epoch   gpu_mem       box       obj       cls    labels  img_size\n",
            "     30/99     9.23G   0.01807   0.01125   0.02359        85       640: 100% 49/49 [00:39<00:00,  1.23it/s]\n",
            "               Class     Images     Labels          P          R     mAP@.5 mAP@.5:.95: 100% 3/3 [00:02<00:00,  1.08it/s]\n",
            "                 all        174        188      0.753      0.551      0.643      0.563\n",
            "\n",
            "     Epoch   gpu_mem       box       obj       cls    labels  img_size\n",
            "     31/99     9.23G   0.01753   0.01181   0.02339        81       640: 100% 49/49 [00:39<00:00,  1.24it/s]\n",
            "               Class     Images     Labels          P          R     mAP@.5 mAP@.5:.95: 100% 3/3 [00:02<00:00,  1.09it/s]\n",
            "                 all        174        188      0.589       0.67      0.601      0.525\n",
            "\n",
            "     Epoch   gpu_mem       box       obj       cls    labels  img_size\n",
            "     32/99     9.23G   0.01737   0.01151   0.02155        75       640: 100% 49/49 [00:40<00:00,  1.21it/s]\n",
            "               Class     Images     Labels          P          R     mAP@.5 mAP@.5:.95: 100% 3/3 [00:02<00:00,  1.00it/s]\n",
            "                 all        174        188      0.741       0.55      0.593      0.511\n",
            "\n",
            "     Epoch   gpu_mem       box       obj       cls    labels  img_size\n",
            "     33/99     9.23G   0.01737   0.01176   0.02183        87       640: 100% 49/49 [00:38<00:00,  1.29it/s]\n",
            "               Class     Images     Labels          P          R     mAP@.5 mAP@.5:.95: 100% 3/3 [00:02<00:00,  1.06it/s]\n",
            "                 all        174        188      0.426      0.605      0.532      0.449\n",
            "\n",
            "     Epoch   gpu_mem       box       obj       cls    labels  img_size\n",
            "     34/99     9.23G    0.0172   0.01128    0.0224        77       640: 100% 49/49 [00:39<00:00,  1.24it/s]\n",
            "               Class     Images     Labels          P          R     mAP@.5 mAP@.5:.95: 100% 3/3 [00:02<00:00,  1.20it/s]\n",
            "                 all        174        188      0.531      0.723      0.651      0.575\n",
            "\n",
            "     Epoch   gpu_mem       box       obj       cls    labels  img_size\n",
            "     35/99     9.23G    0.0174    0.0113   0.02169        84       640: 100% 49/49 [00:38<00:00,  1.27it/s]\n",
            "               Class     Images     Labels          P          R     mAP@.5 mAP@.5:.95: 100% 3/3 [00:02<00:00,  1.05it/s]\n",
            "                 all        174        188      0.545      0.681      0.638      0.566\n",
            "\n",
            "     Epoch   gpu_mem       box       obj       cls    labels  img_size\n",
            "     36/99     9.23G   0.01673   0.01112   0.02216        73       640: 100% 49/49 [00:39<00:00,  1.24it/s]\n",
            "               Class     Images     Labels          P          R     mAP@.5 mAP@.5:.95: 100% 3/3 [00:02<00:00,  1.04it/s]\n",
            "                 all        174        188      0.565      0.679       0.63      0.541\n",
            "\n",
            "     Epoch   gpu_mem       box       obj       cls    labels  img_size\n",
            "     37/99     9.23G   0.01667   0.01146   0.02132        83       640: 100% 49/49 [00:37<00:00,  1.30it/s]\n",
            "               Class     Images     Labels          P          R     mAP@.5 mAP@.5:.95: 100% 3/3 [00:02<00:00,  1.03it/s]\n",
            "                 all        174        188      0.488      0.703      0.598      0.523\n",
            "\n",
            "     Epoch   gpu_mem       box       obj       cls    labels  img_size\n",
            "     38/99     9.23G   0.01622   0.01129   0.02098        74       640: 100% 49/49 [00:40<00:00,  1.20it/s]\n",
            "               Class     Images     Labels          P          R     mAP@.5 mAP@.5:.95: 100% 3/3 [00:02<00:00,  1.10it/s]\n",
            "                 all        174        188      0.561      0.717      0.689      0.613\n",
            "\n",
            "     Epoch   gpu_mem       box       obj       cls    labels  img_size\n",
            "     39/99     9.23G   0.01672   0.01109   0.02133        63       640: 100% 49/49 [00:38<00:00,  1.27it/s]\n",
            "               Class     Images     Labels          P          R     mAP@.5 mAP@.5:.95: 100% 3/3 [00:02<00:00,  1.00it/s]\n",
            "                 all        174        188      0.484      0.681      0.628      0.549\n",
            "\n",
            "     Epoch   gpu_mem       box       obj       cls    labels  img_size\n",
            "     40/99     9.23G   0.01643   0.01081   0.02029        74       640: 100% 49/49 [00:37<00:00,  1.30it/s]\n",
            "               Class     Images     Labels          P          R     mAP@.5 mAP@.5:.95: 100% 3/3 [00:02<00:00,  1.11it/s]\n",
            "                 all        174        188      0.668      0.675       0.68      0.597\n",
            "\n",
            "     Epoch   gpu_mem       box       obj       cls    labels  img_size\n",
            "     41/99     9.23G   0.01613   0.01132   0.02023        75       640: 100% 49/49 [00:38<00:00,  1.28it/s]\n",
            "               Class     Images     Labels          P          R     mAP@.5 mAP@.5:.95: 100% 3/3 [00:02<00:00,  1.06it/s]\n",
            "                 all        174        188      0.528      0.726      0.659      0.584\n",
            "\n",
            "     Epoch   gpu_mem       box       obj       cls    labels  img_size\n",
            "     42/99     9.23G   0.01594   0.01101   0.01924        78       640: 100% 49/49 [00:37<00:00,  1.31it/s]\n",
            "               Class     Images     Labels          P          R     mAP@.5 mAP@.5:.95: 100% 3/3 [00:02<00:00,  1.03it/s]\n",
            "                 all        174        188      0.627      0.645      0.672      0.591\n",
            "\n",
            "     Epoch   gpu_mem       box       obj       cls    labels  img_size\n",
            "     43/99     9.23G   0.01609    0.0109   0.01867        70       640: 100% 49/49 [00:39<00:00,  1.24it/s]\n",
            "               Class     Images     Labels          P          R     mAP@.5 mAP@.5:.95: 100% 3/3 [00:04<00:00,  1.48s/it]\n",
            "                 all        174        188      0.559      0.667      0.665      0.596\n",
            "\n",
            "     Epoch   gpu_mem       box       obj       cls    labels  img_size\n",
            "     44/99     9.23G   0.01593   0.01094   0.01791        77       640: 100% 49/49 [00:39<00:00,  1.24it/s]\n",
            "               Class     Images     Labels          P          R     mAP@.5 mAP@.5:.95: 100% 3/3 [00:02<00:00,  1.22it/s]\n",
            "                 all        174        188      0.629      0.664      0.704      0.628\n",
            "\n",
            "     Epoch   gpu_mem       box       obj       cls    labels  img_size\n",
            "     45/99     9.23G   0.01579   0.01073   0.01735        89       640: 100% 49/49 [00:38<00:00,  1.26it/s]\n",
            "               Class     Images     Labels          P          R     mAP@.5 mAP@.5:.95: 100% 3/3 [00:03<00:00,  1.01s/it]\n",
            "                 all        174        188      0.716      0.685      0.691      0.615\n",
            "\n",
            "     Epoch   gpu_mem       box       obj       cls    labels  img_size\n",
            "     46/99     9.23G   0.01558   0.01096   0.01719        79       640: 100% 49/49 [00:39<00:00,  1.25it/s]\n",
            "               Class     Images     Labels          P          R     mAP@.5 mAP@.5:.95: 100% 3/3 [00:02<00:00,  1.02it/s]\n",
            "                 all        174        188      0.582      0.729      0.687      0.608\n",
            "\n",
            "     Epoch   gpu_mem       box       obj       cls    labels  img_size\n",
            "     47/99     9.23G   0.01544    0.0106   0.01784        77       640: 100% 49/49 [00:38<00:00,  1.28it/s]\n",
            "               Class     Images     Labels          P          R     mAP@.5 mAP@.5:.95: 100% 3/3 [00:03<00:00,  1.01s/it]\n",
            "                 all        174        188      0.561      0.729      0.716      0.642\n",
            "\n",
            "     Epoch   gpu_mem       box       obj       cls    labels  img_size\n",
            "     48/99     9.23G   0.01518   0.01046   0.01764        67       640: 100% 49/49 [00:38<00:00,  1.27it/s]\n",
            "               Class     Images     Labels          P          R     mAP@.5 mAP@.5:.95: 100% 3/3 [00:02<00:00,  1.06it/s]\n",
            "                 all        174        188      0.627      0.688      0.701      0.628\n",
            "\n",
            "     Epoch   gpu_mem       box       obj       cls    labels  img_size\n",
            "     49/99     9.23G   0.01564   0.01051   0.01727        81       640: 100% 49/49 [00:39<00:00,  1.24it/s]\n",
            "               Class     Images     Labels          P          R     mAP@.5 mAP@.5:.95: 100% 3/3 [00:02<00:00,  1.01it/s]\n",
            "                 all        174        188      0.731      0.601      0.687      0.626\n",
            "\n",
            "     Epoch   gpu_mem       box       obj       cls    labels  img_size\n",
            "     50/99     9.23G   0.01534    0.0105   0.01901        63       640: 100% 49/49 [00:38<00:00,  1.29it/s]\n",
            "               Class     Images     Labels          P          R     mAP@.5 mAP@.5:.95: 100% 3/3 [00:02<00:00,  1.12it/s]\n",
            "                 all        174        188      0.589      0.564      0.612      0.533\n",
            "\n",
            "     Epoch   gpu_mem       box       obj       cls    labels  img_size\n",
            "     51/99     9.23G   0.01504   0.01095   0.01706        89       640: 100% 49/49 [00:37<00:00,  1.30it/s]\n",
            "               Class     Images     Labels          P          R     mAP@.5 mAP@.5:.95: 100% 3/3 [00:02<00:00,  1.01it/s]\n",
            "                 all        174        188      0.659      0.677       0.69      0.607\n",
            "\n",
            "     Epoch   gpu_mem       box       obj       cls    labels  img_size\n",
            "     52/99     9.23G   0.01504   0.01062    0.0161        73       640: 100% 49/49 [00:38<00:00,  1.26it/s]\n",
            "               Class     Images     Labels          P          R     mAP@.5 mAP@.5:.95: 100% 3/3 [00:02<00:00,  1.20it/s]\n",
            "                 all        174        188      0.732      0.728      0.724      0.656\n",
            "\n",
            "     Epoch   gpu_mem       box       obj       cls    labels  img_size\n",
            "     53/99     9.23G   0.01511   0.01039   0.01603        69       640: 100% 49/49 [00:37<00:00,  1.32it/s]\n",
            "               Class     Images     Labels          P          R     mAP@.5 mAP@.5:.95: 100% 3/3 [00:02<00:00,  1.04it/s]\n",
            "                 all        174        188      0.648       0.63      0.653      0.586\n",
            "\n",
            "     Epoch   gpu_mem       box       obj       cls    labels  img_size\n",
            "     54/99     9.23G   0.01478   0.01047   0.01637        66       640: 100% 49/49 [00:39<00:00,  1.24it/s]\n",
            "               Class     Images     Labels          P          R     mAP@.5 mAP@.5:.95: 100% 3/3 [00:02<00:00,  1.11it/s]\n",
            "                 all        174        188      0.667      0.609       0.69      0.612\n",
            "\n",
            "     Epoch   gpu_mem       box       obj       cls    labels  img_size\n",
            "     55/99     9.23G   0.01475   0.01048   0.01605        68       640: 100% 49/49 [00:38<00:00,  1.27it/s]\n",
            "               Class     Images     Labels          P          R     mAP@.5 mAP@.5:.95: 100% 3/3 [00:03<00:00,  1.31s/it]\n",
            "                 all        174        188      0.727       0.66      0.723      0.646\n",
            "\n",
            "     Epoch   gpu_mem       box       obj       cls    labels  img_size\n",
            "     56/99     9.23G   0.01457   0.01021   0.01455        66       640: 100% 49/49 [00:38<00:00,  1.26it/s]\n",
            "               Class     Images     Labels          P          R     mAP@.5 mAP@.5:.95: 100% 3/3 [00:03<00:00,  1.03s/it]\n",
            "                 all        174        188      0.674      0.635      0.676      0.605\n",
            "\n",
            "     Epoch   gpu_mem       box       obj       cls    labels  img_size\n",
            "     57/99     9.23G   0.01456   0.01048   0.01529        73       640: 100% 49/49 [00:38<00:00,  1.27it/s]\n",
            "               Class     Images     Labels          P          R     mAP@.5 mAP@.5:.95: 100% 3/3 [00:02<00:00,  1.03it/s]\n",
            "                 all        174        188      0.613      0.632      0.652      0.592\n",
            "\n",
            "     Epoch   gpu_mem       box       obj       cls    labels  img_size\n",
            "     58/99     9.23G   0.01447  0.009929   0.01402        78       640: 100% 49/49 [00:37<00:00,  1.29it/s]\n",
            "               Class     Images     Labels          P          R     mAP@.5 mAP@.5:.95: 100% 3/3 [00:02<00:00,  1.02it/s]\n",
            "                 all        174        188      0.541      0.639      0.633      0.573\n",
            "\n",
            "     Epoch   gpu_mem       box       obj       cls    labels  img_size\n",
            "     59/99     9.23G   0.01415   0.01036   0.01337        87       640: 100% 49/49 [00:39<00:00,  1.25it/s]\n",
            "               Class     Images     Labels          P          R     mAP@.5 mAP@.5:.95: 100% 3/3 [00:02<00:00,  1.04it/s]\n",
            "                 all        174        188      0.638      0.633      0.707      0.637\n",
            "\n",
            "     Epoch   gpu_mem       box       obj       cls    labels  img_size\n",
            "     60/99     9.23G   0.01429   0.01013   0.01291        84       640: 100% 49/49 [00:39<00:00,  1.26it/s]\n",
            "               Class     Images     Labels          P          R     mAP@.5 mAP@.5:.95: 100% 3/3 [00:02<00:00,  1.14it/s]\n",
            "                 all        174        188      0.688      0.649      0.695      0.637\n",
            "\n",
            "     Epoch   gpu_mem       box       obj       cls    labels  img_size\n",
            "     61/99     9.23G   0.01448   0.01004   0.01325        82       640: 100% 49/49 [00:38<00:00,  1.27it/s]\n",
            "               Class     Images     Labels          P          R     mAP@.5 mAP@.5:.95: 100% 3/3 [00:03<00:00,  1.20s/it]\n",
            "                 all        174        188      0.597      0.704      0.667      0.608\n",
            "\n",
            "     Epoch   gpu_mem       box       obj       cls    labels  img_size\n",
            "     62/99     9.23G   0.01391   0.01022   0.01288        83       640: 100% 49/49 [00:38<00:00,  1.27it/s]\n",
            "               Class     Images     Labels          P          R     mAP@.5 mAP@.5:.95: 100% 3/3 [00:03<00:00,  1.01s/it]\n",
            "                 all        174        188      0.685      0.663      0.688      0.627\n",
            "\n",
            "     Epoch   gpu_mem       box       obj       cls    labels  img_size\n",
            "     63/99     9.23G   0.01405   0.01009    0.0122        83       640: 100% 49/49 [00:39<00:00,  1.24it/s]\n",
            "               Class     Images     Labels          P          R     mAP@.5 mAP@.5:.95: 100% 3/3 [00:03<00:00,  1.02s/it]\n",
            "                 all        174        188       0.77      0.565      0.664      0.599\n",
            "\n",
            "     Epoch   gpu_mem       box       obj       cls    labels  img_size\n",
            "     64/99     9.23G   0.01389   0.01019    0.0128        87       640: 100% 49/49 [00:38<00:00,  1.27it/s]\n",
            "               Class     Images     Labels          P          R     mAP@.5 mAP@.5:.95: 100% 3/3 [00:02<00:00,  1.20it/s]\n",
            "                 all        174        188      0.668       0.72      0.725      0.659\n",
            "\n",
            "     Epoch   gpu_mem       box       obj       cls    labels  img_size\n",
            "     65/99     9.23G   0.01372  0.009786   0.01242        88       640: 100% 49/49 [00:37<00:00,  1.29it/s]\n",
            "               Class     Images     Labels          P          R     mAP@.5 mAP@.5:.95: 100% 3/3 [00:02<00:00,  1.01it/s]\n",
            "                 all        174        188      0.696      0.681      0.754      0.687\n",
            "\n",
            "     Epoch   gpu_mem       box       obj       cls    labels  img_size\n",
            "     66/99     9.23G   0.01379  0.009893   0.01205        65       640: 100% 49/49 [00:37<00:00,  1.29it/s]\n",
            "               Class     Images     Labels          P          R     mAP@.5 mAP@.5:.95: 100% 3/3 [00:03<00:00,  1.01s/it]\n",
            "                 all        174        188      0.734      0.652      0.727      0.664\n",
            "\n",
            "     Epoch   gpu_mem       box       obj       cls    labels  img_size\n",
            "     67/99     9.23G    0.0135  0.009966   0.01144        77       640: 100% 49/49 [00:38<00:00,  1.28it/s]\n",
            "               Class     Images     Labels          P          R     mAP@.5 mAP@.5:.95: 100% 3/3 [00:02<00:00,  1.02it/s]\n",
            "                 all        174        188      0.754      0.611      0.747      0.685\n",
            "\n",
            "     Epoch   gpu_mem       box       obj       cls    labels  img_size\n",
            "     68/99     9.23G   0.01302  0.009929   0.01224        75       640: 100% 49/49 [00:38<00:00,  1.29it/s]\n",
            "               Class     Images     Labels          P          R     mAP@.5 mAP@.5:.95: 100% 3/3 [00:02<00:00,  1.03it/s]\n",
            "                 all        174        188      0.661      0.695      0.687      0.633\n",
            "\n",
            "     Epoch   gpu_mem       box       obj       cls    labels  img_size\n",
            "     69/99     9.23G   0.01306  0.009867   0.01161        77       640: 100% 49/49 [00:38<00:00,  1.26it/s]\n",
            "               Class     Images     Labels          P          R     mAP@.5 mAP@.5:.95: 100% 3/3 [00:03<00:00,  1.05s/it]\n",
            "                 all        174        188      0.694       0.66      0.725      0.666\n",
            "\n",
            "     Epoch   gpu_mem       box       obj       cls    labels  img_size\n",
            "     70/99     9.23G   0.01329  0.009794    0.0113        67       640: 100% 49/49 [00:37<00:00,  1.29it/s]\n",
            "               Class     Images     Labels          P          R     mAP@.5 mAP@.5:.95: 100% 3/3 [00:02<00:00,  1.04it/s]\n",
            "                 all        174        188      0.663      0.744      0.733      0.673\n",
            "\n",
            "     Epoch   gpu_mem       box       obj       cls    labels  img_size\n",
            "     71/99     9.23G   0.01284  0.009547   0.01097        81       640: 100% 49/49 [00:38<00:00,  1.29it/s]\n",
            "               Class     Images     Labels          P          R     mAP@.5 mAP@.5:.95: 100% 3/3 [00:03<00:00,  1.02s/it]\n",
            "                 all        174        188      0.597      0.666      0.673      0.619\n",
            "\n",
            "     Epoch   gpu_mem       box       obj       cls    labels  img_size\n",
            "     72/99     9.23G   0.01302  0.009726   0.01031        68       640: 100% 49/49 [00:39<00:00,  1.26it/s]\n",
            "               Class     Images     Labels          P          R     mAP@.5 mAP@.5:.95: 100% 3/3 [00:02<00:00,  1.03it/s]\n",
            "                 all        174        188      0.645      0.558      0.658      0.593\n",
            "\n",
            "     Epoch   gpu_mem       box       obj       cls    labels  img_size\n",
            "     73/99     9.23G    0.0129  0.009537   0.01034        66       640: 100% 49/49 [00:37<00:00,  1.32it/s]\n",
            "               Class     Images     Labels          P          R     mAP@.5 mAP@.5:.95: 100% 3/3 [00:03<00:00,  1.02s/it]\n",
            "                 all        174        188      0.688      0.664      0.678      0.618\n",
            "\n",
            "     Epoch   gpu_mem       box       obj       cls    labels  img_size\n",
            "     74/99     9.23G   0.01274  0.009653   0.01044        85       640: 100% 49/49 [00:39<00:00,  1.24it/s]\n",
            "               Class     Images     Labels          P          R     mAP@.5 mAP@.5:.95: 100% 3/3 [00:02<00:00,  1.04it/s]\n",
            "                 all        174        188      0.695      0.667      0.705      0.642\n",
            "\n",
            "     Epoch   gpu_mem       box       obj       cls    labels  img_size\n",
            "     75/99     9.23G   0.01233  0.009328   0.01037        74       640: 100% 49/49 [00:37<00:00,  1.30it/s]\n",
            "               Class     Images     Labels          P          R     mAP@.5 mAP@.5:.95: 100% 3/3 [00:02<00:00,  1.00it/s]\n",
            "                 all        174        188      0.725      0.649      0.736      0.675\n",
            "\n",
            "     Epoch   gpu_mem       box       obj       cls    labels  img_size\n",
            "     76/99     9.23G   0.01201  0.009312  0.009894        70       640: 100% 49/49 [00:38<00:00,  1.27it/s]\n",
            "               Class     Images     Labels          P          R     mAP@.5 mAP@.5:.95: 100% 3/3 [00:02<00:00,  1.03it/s]\n",
            "                 all        174        188      0.673      0.714      0.735      0.674\n",
            "\n",
            "     Epoch   gpu_mem       box       obj       cls    labels  img_size\n",
            "     77/99     9.23G   0.01194  0.009199  0.009932        80       640: 100% 49/49 [00:37<00:00,  1.30it/s]\n",
            "               Class     Images     Labels          P          R     mAP@.5 mAP@.5:.95: 100% 3/3 [00:02<00:00,  1.06it/s]\n",
            "                 all        174        188      0.713      0.679      0.736      0.674\n",
            "\n",
            "     Epoch   gpu_mem       box       obj       cls    labels  img_size\n",
            "     78/99     9.23G   0.01227  0.009276    0.0103        72       640: 100% 49/49 [00:37<00:00,  1.30it/s]\n",
            "               Class     Images     Labels          P          R     mAP@.5 mAP@.5:.95: 100% 3/3 [00:03<00:00,  1.05s/it]\n",
            "                 all        174        188      0.683      0.685      0.739       0.68\n",
            "\n",
            "     Epoch   gpu_mem       box       obj       cls    labels  img_size\n",
            "     79/99     9.23G   0.01209  0.009249  0.009637        72       640: 100% 49/49 [00:38<00:00,  1.28it/s]\n",
            "               Class     Images     Labels          P          R     mAP@.5 mAP@.5:.95: 100% 3/3 [00:02<00:00,  1.08it/s]\n",
            "                 all        174        188      0.762      0.635      0.728      0.673\n",
            "\n",
            "     Epoch   gpu_mem       box       obj       cls    labels  img_size\n",
            "     80/99     9.23G   0.01182  0.009308    0.0087        73       640: 100% 49/49 [00:39<00:00,  1.23it/s]\n",
            "               Class     Images     Labels          P          R     mAP@.5 mAP@.5:.95: 100% 3/3 [00:02<00:00,  1.02it/s]\n",
            "                 all        174        188       0.77      0.687       0.74      0.688\n",
            "\n",
            "     Epoch   gpu_mem       box       obj       cls    labels  img_size\n",
            "     81/99     9.23G   0.01176  0.009269  0.008687        73       640: 100% 49/49 [00:38<00:00,  1.29it/s]\n",
            "               Class     Images     Labels          P          R     mAP@.5 mAP@.5:.95: 100% 3/3 [00:03<00:00,  1.02s/it]\n",
            "                 all        174        188       0.75      0.674      0.728       0.67\n",
            "\n",
            "     Epoch   gpu_mem       box       obj       cls    labels  img_size\n",
            "     82/99     9.23G   0.01164  0.009042  0.008827        73       640: 100% 49/49 [00:37<00:00,  1.30it/s]\n",
            "               Class     Images     Labels          P          R     mAP@.5 mAP@.5:.95: 100% 3/3 [00:03<00:00,  1.00s/it]\n",
            "                 all        174        188      0.669      0.679      0.704      0.659\n",
            "\n",
            "     Epoch   gpu_mem       box       obj       cls    labels  img_size\n",
            "     83/99     9.23G   0.01159  0.009335  0.008048        67       640: 100% 49/49 [00:38<00:00,  1.27it/s]\n",
            "               Class     Images     Labels          P          R     mAP@.5 mAP@.5:.95: 100% 3/3 [00:02<00:00,  1.03it/s]\n",
            "                 all        174        188      0.689      0.677      0.733      0.681\n",
            "\n",
            "     Epoch   gpu_mem       box       obj       cls    labels  img_size\n",
            "     84/99     9.23G   0.01148  0.008971  0.008296        74       640: 100% 49/49 [00:38<00:00,  1.27it/s]\n",
            "               Class     Images     Labels          P          R     mAP@.5 mAP@.5:.95: 100% 3/3 [00:03<00:00,  1.02s/it]\n",
            "                 all        174        188      0.701      0.696      0.734       0.68\n",
            "\n",
            "     Epoch   gpu_mem       box       obj       cls    labels  img_size\n",
            "     85/99     9.23G   0.01138  0.008885  0.007638        68       640: 100% 49/49 [00:38<00:00,  1.26it/s]\n",
            "               Class     Images     Labels          P          R     mAP@.5 mAP@.5:.95: 100% 3/3 [00:02<00:00,  1.02it/s]\n",
            "                 all        174        188      0.714      0.644      0.703      0.646\n",
            "\n",
            "     Epoch   gpu_mem       box       obj       cls    labels  img_size\n",
            "     86/99     9.23G   0.01144  0.008836  0.008152        79       640: 100% 49/49 [00:39<00:00,  1.23it/s]\n",
            "               Class     Images     Labels          P          R     mAP@.5 mAP@.5:.95: 100% 3/3 [00:02<00:00,  1.08it/s]\n",
            "                 all        174        188      0.747      0.697      0.735      0.675\n",
            "\n",
            "     Epoch   gpu_mem       box       obj       cls    labels  img_size\n",
            "     87/99     9.23G   0.01114   0.00908  0.007674        74       640: 100% 49/49 [00:38<00:00,  1.29it/s]\n",
            "               Class     Images     Labels          P          R     mAP@.5 mAP@.5:.95: 100% 3/3 [00:02<00:00,  1.12it/s]\n",
            "                 all        174        188      0.735      0.654      0.721      0.667\n",
            "\n",
            "     Epoch   gpu_mem       box       obj       cls    labels  img_size\n",
            "     88/99     9.23G   0.01083  0.009118  0.007721        71       640: 100% 49/49 [00:38<00:00,  1.27it/s]\n",
            "               Class     Images     Labels          P          R     mAP@.5 mAP@.5:.95: 100% 3/3 [00:02<00:00,  1.01it/s]\n",
            "                 all        174        188      0.774      0.669       0.74      0.691\n",
            "\n",
            "     Epoch   gpu_mem       box       obj       cls    labels  img_size\n",
            "     89/99     9.23G   0.01063  0.008823  0.007311        71       640: 100% 49/49 [00:38<00:00,  1.28it/s]\n",
            "               Class     Images     Labels          P          R     mAP@.5 mAP@.5:.95: 100% 3/3 [00:03<00:00,  1.02s/it]\n",
            "                 all        174        188      0.761       0.71      0.741      0.689\n",
            "\n",
            "     Epoch   gpu_mem       box       obj       cls    labels  img_size\n",
            "     90/99     9.23G   0.01066  0.008655  0.006975        72       640: 100% 49/49 [00:38<00:00,  1.26it/s]\n",
            "               Class     Images     Labels          P          R     mAP@.5 mAP@.5:.95: 100% 3/3 [00:02<00:00,  1.10it/s]\n",
            "                 all        174        188       0.77      0.656      0.741      0.689\n",
            "\n",
            "     Epoch   gpu_mem       box       obj       cls    labels  img_size\n",
            "     91/99     9.23G   0.01066  0.008833  0.006629        79       640: 100% 49/49 [00:39<00:00,  1.23it/s]\n",
            "               Class     Images     Labels          P          R     mAP@.5 mAP@.5:.95: 100% 3/3 [00:02<00:00,  1.02it/s]\n",
            "                 all        174        188      0.764      0.679       0.75      0.705\n",
            "\n",
            "     Epoch   gpu_mem       box       obj       cls    labels  img_size\n",
            "     92/99     9.23G   0.01058  0.008881  0.006714        76       640: 100% 49/49 [00:40<00:00,  1.22it/s]\n",
            "               Class     Images     Labels          P          R     mAP@.5 mAP@.5:.95: 100% 3/3 [00:02<00:00,  1.06it/s]\n",
            "                 all        174        188      0.745      0.667      0.744      0.698\n",
            "\n",
            "     Epoch   gpu_mem       box       obj       cls    labels  img_size\n",
            "     93/99     9.23G   0.01056  0.008814    0.0067        72       640: 100% 49/49 [00:40<00:00,  1.22it/s]\n",
            "               Class     Images     Labels          P          R     mAP@.5 mAP@.5:.95: 100% 3/3 [00:02<00:00,  1.03it/s]\n",
            "                 all        174        188      0.749      0.683      0.755      0.703\n",
            "\n",
            "     Epoch   gpu_mem       box       obj       cls    labels  img_size\n",
            "     94/99     9.23G   0.01037  0.008707  0.006436        91       640: 100% 49/49 [00:39<00:00,  1.23it/s]\n",
            "               Class     Images     Labels          P          R     mAP@.5 mAP@.5:.95: 100% 3/3 [00:02<00:00,  1.07it/s]\n",
            "                 all        174        188       0.73      0.697      0.723      0.673\n",
            "\n",
            "     Epoch   gpu_mem       box       obj       cls    labels  img_size\n",
            "     95/99     9.23G   0.01017  0.008661  0.006213        63       640: 100% 49/49 [00:38<00:00,  1.27it/s]\n",
            "               Class     Images     Labels          P          R     mAP@.5 mAP@.5:.95: 100% 3/3 [00:03<00:00,  1.03s/it]\n",
            "                 all        174        188       0.76      0.672      0.744      0.697\n",
            "\n",
            "     Epoch   gpu_mem       box       obj       cls    labels  img_size\n",
            "     96/99     9.23G  0.009972  0.008518  0.006408        78       640: 100% 49/49 [00:38<00:00,  1.26it/s]\n",
            "               Class     Images     Labels          P          R     mAP@.5 mAP@.5:.95: 100% 3/3 [00:02<00:00,  1.16it/s]\n",
            "                 all        174        188      0.744      0.666       0.74      0.693\n",
            "\n",
            "     Epoch   gpu_mem       box       obj       cls    labels  img_size\n",
            "     97/99     9.23G  0.009845  0.008629  0.006223        64       640: 100% 49/49 [00:37<00:00,  1.30it/s]\n",
            "               Class     Images     Labels          P          R     mAP@.5 mAP@.5:.95: 100% 3/3 [00:03<00:00,  1.01s/it]\n",
            "                 all        174        188      0.722      0.704      0.762      0.718\n",
            "\n",
            "     Epoch   gpu_mem       box       obj       cls    labels  img_size\n",
            "     98/99     9.23G  0.009958  0.008407   0.00632        78       640: 100% 49/49 [00:39<00:00,  1.23it/s]\n",
            "               Class     Images     Labels          P          R     mAP@.5 mAP@.5:.95: 100% 3/3 [00:02<00:00,  1.02it/s]\n",
            "                 all        174        188      0.749      0.674      0.754      0.711\n",
            "\n",
            "     Epoch   gpu_mem       box       obj       cls    labels  img_size\n",
            "     99/99     9.23G  0.009767  0.008473  0.005557        64       640: 100% 49/49 [00:39<00:00,  1.24it/s]\n",
            "               Class     Images     Labels          P          R     mAP@.5 mAP@.5:.95: 100% 3/3 [00:03<00:00,  1.00s/it]\n",
            "                 all        174        188      0.743      0.679      0.757      0.713\n",
            "\n",
            "100 epochs completed in 1.192 hours.\n",
            "Optimizer stripped from runs/train/exp/weights/last.pt, 25.2MB\n",
            "Optimizer stripped from runs/train/exp/weights/best.pt, 25.2MB\n",
            "\n",
            "Validating runs/train/exp/weights/best.pt...\n",
            "Fusing layers... \n",
            "Model summary: 280 layers, 12339016 parameters, 0 gradients\n",
            "               Class     Images     Labels          P          R     mAP@.5 mAP@.5:.95: 100% 3/3 [00:03<00:00,  1.10s/it]\n",
            "                 all        174        188      0.726      0.697      0.762      0.717\n",
            "             granite        174         19       0.73      0.789      0.867      0.856\n",
            "              pyrite        174         29      0.815      0.911      0.957      0.944\n",
            "           sandstone        174          8      0.445        0.5       0.63       0.62\n",
            "              basalt        174         17      0.618      0.706      0.711      0.653\n",
            "         labradorite        174         33      0.955          1      0.995      0.974\n",
            "           quartzite        174         18      0.688      0.611      0.638      0.624\n",
            "                coal        174         21      0.838      0.762      0.866      0.836\n",
            "           limestone        174         20      0.609      0.545      0.601      0.377\n",
            "              marble        174         23      0.838      0.451       0.59      0.571\n",
            "Results saved to \u001b[1mruns/train/exp\u001b[0m\n"
          ]
        }
      ]
    },
    {
      "cell_type": "markdown",
      "source": [
        "Load Model"
      ],
      "metadata": {
        "id": "vUBVJfxSLTo0"
      }
    },
    {
      "cell_type": "code",
      "source": [
        "#model = yolov5.load('/content/best.pt')\n",
        "model = torch.hub.load('ultralytics/yolov5', 'yolov5s')"
      ],
      "metadata": {
        "colab": {
          "base_uri": "https://localhost:8080/"
        },
        "id": "lXAVkwDyR_Ie",
        "outputId": "580d2469-4d7a-47ba-e24d-acf1ffd663a6"
      },
      "execution_count": null,
      "outputs": [
        {
          "output_type": "stream",
          "name": "stderr",
          "text": [
            "Using cache found in /root/.cache/torch/hub/ultralytics_yolov5_master\n",
            "\u001b[31m\u001b[1mrequirements:\u001b[0m PyYAML>=5.3.1 not found and is required by YOLOv5, attempting auto-update...\n",
            "Looking in indexes: https://pypi.org/simple, https://us-python.pkg.dev/colab-wheels/public/simple/\n",
            "Requirement already satisfied: PyYAML>=5.3.1 in /usr/local/lib/python3.7/dist-packages (6.0)\n",
            "\n",
            "\u001b[31m\u001b[1mrequirements:\u001b[0m 1 package updated per /content/yolov5/requirements.txt\n",
            "\u001b[31m\u001b[1mrequirements:\u001b[0m ⚠️ \u001b[1mRestart runtime or rerun command for updates to take effect\u001b[0m\n",
            "\n",
            "YOLOv5 🚀 v6.1-246-g2dd3db0 Python-3.7.13 torch-1.11.0+cu113 CUDA:0 (Tesla T4, 15110MiB)\n",
            "\n",
            "Fusing layers... \n",
            "YOLOv5s summary: 213 layers, 7225885 parameters, 0 gradients\n",
            "Adding AutoShape... \n"
          ]
        }
      ]
    },
    {
      "cell_type": "code",
      "source": [
        "!python detect.py --weights runs/train/exp/weights/best.pt --img 640 --conf 0.4 --source ../1.jpg"
      ],
      "metadata": {
        "colab": {
          "base_uri": "https://localhost:8080/"
        },
        "id": "aoZ5zQfaN-MP",
        "outputId": "e10e44be-47c1-4602-9e32-374761938d8b"
      },
      "execution_count": 12,
      "outputs": [
        {
          "output_type": "stream",
          "name": "stdout",
          "text": [
            "\u001b[34m\u001b[1mdetect: \u001b[0mweights=['runs/train/exp/weights/best.pt'], source=../1.jpg, data=data/coco128.yaml, imgsz=[640, 640], conf_thres=0.4, iou_thres=0.45, max_det=1000, device=, view_img=False, save_txt=False, save_conf=False, save_crop=False, nosave=False, classes=None, agnostic_nms=False, augment=False, visualize=False, update=False, project=runs/detect, name=exp, exist_ok=False, line_thickness=3, hide_labels=False, hide_conf=False, half=False, dnn=False\n",
            "YOLOv5 🚀 v6.1-251-gc23a441 Python-3.7.13 torch-1.11.0+cu113 CUDA:0 (Tesla T4, 15110MiB)\n",
            "\n",
            "Fusing layers... \n",
            "Model summary: 280 layers, 12339016 parameters, 0 gradients\n",
            "image 1/1 /content/1.jpg: 448x640 1 quartzite, Done. (0.024s)\n",
            "Speed: 0.5ms pre-process, 23.5ms inference, 1.5ms NMS per image at shape (1, 3, 640, 640)\n",
            "Results saved to \u001b[1mruns/detect/exp\u001b[0m\n"
          ]
        }
      ]
    },
    {
      "cell_type": "code",
      "source": [
        "# !python detect.py --weights weights/last_yolov5s_custom.pt --img 416 --conf 0.4 --source ../test_infer"
      ],
      "metadata": {
        "id": "SVRvz9aApa-o"
      },
      "execution_count": null,
      "outputs": []
    },
    {
      "cell_type": "markdown",
      "source": [
        "Deteksi Gambar"
      ],
      "metadata": {
        "id": "q7pV1iiXLXks"
      }
    },
    {
      "cell_type": "code",
      "source": [
        "from IPython.display import display\n",
        "from PIL import Image\n",
        "\n",
        "image_path = \"runs/detect/exp/1.jpg\"\n",
        "display(Image.open(image_path))"
      ],
      "metadata": {
        "id": "3IH0k_dNO8If",
        "colab": {
          "base_uri": "https://localhost:8080/",
          "height": 199
        },
        "outputId": "afb8a466-0545-4d0d-ce51-35e4866c858c"
      },
      "execution_count": 13,
      "outputs": [
        {
          "output_type": "display_data",
          "data": {
            "text/plain": [
              "<PIL.JpegImagePlugin.JpegImageFile image mode=RGB size=276x182 at 0x7F02DD096190>"
            ],
            "image/png": "[encoded data removed]"
          },
          "metadata": {}
        }
      ]
    },
    {
      "cell_type": "markdown",
      "source": [
        "You can download the source original images from the author site at who retain the rights on the image: https://www.pexels.com/photo/a-group-of-skaters-with-their-skateboards-on-the-sidewalk-6337382/"
      ],
      "metadata": {
        "id": "1e0BJpT4R6-Z"
      }
    }
  ]
}